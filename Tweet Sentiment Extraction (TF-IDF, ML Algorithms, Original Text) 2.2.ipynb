{
 "cells": [
  {
   "cell_type": "markdown",
   "metadata": {},
   "source": [
    "## Tweet Sentiment Extraction\n",
    "\n",
    "#### Mini Project 3\n",
    "- Email: yuehangdata@outlook.com\n",
    "- Let's connect on LinkedIn: [Yue Hang Tan](https://www.linkedin.com/in/yuehangtan/)"
   ]
  },
  {
   "cell_type": "markdown",
   "metadata": {},
   "source": [
    "## Data Source from Kaggle:\n",
    "The data set was provided as a Kaggle competition which held in year 2020.\n",
    "\n",
    "https://www.kaggle.com/competitions/tweet-sentiment-extraction/data\n",
    "\n",
    "With over 20k rows of training data sets, it can help us to build some basic predictive models that could predict the sentiments of tweets, which can be useful for business applications such as find out the overall sentiment towards the product based on text reviews, identify the specific features of product that are frequently associated with negative sentiment, identify the trends, patterns or changes of sentiments towards the product over time, identify potential influencers (users with many followers) who have tweeted positively about the product, utilize the sentiment analysis results as features to build new ML model and predict the future sales trends etc."
   ]
  },
  {
   "cell_type": "code",
   "execution_count": 1,
   "metadata": {},
   "outputs": [],
   "source": [
    "# import system libraries\n",
    "import os\n",
    "import time\n",
    "import warnings\n",
    "warnings.filterwarnings(\"ignore\")\n",
    "\n",
    "# import NLP and regex libraries\n",
    "import spacy\n",
    "import nltk\n",
    "import re\n",
    "\n",
    "# import standard data science libraries\n",
    "import pandas as pd\n",
    "import numpy as np\n",
    "import matplotlib.pyplot as plt\n",
    "import seaborn as sns\n",
    "import string\n",
    "\n",
    "# Import text vectorizer and data processing libraries\n",
    "from sklearn.feature_extraction.text import TfidfVectorizer\n",
    "from sklearn.model_selection import train_test_split\n",
    "from sklearn.preprocessing import OneHotEncoder\n",
    "from sklearn.model_selection import cross_val_score, StratifiedKFold, KFold\n",
    "from sklearn.metrics import accuracy_score, precision_score, recall_score, f1_score, roc_curve, roc_auc_score, auc, confusion_matrix\n",
    "from sklearn.model_selection import GridSearchCV\n",
    "from sklearn.model_selection import RandomizedSearchCV\n",
    "from sklearn import metrics\n",
    "from scipy.sparse import hstack, csr_matrix\n",
    "\n",
    "# Import ML models\n",
    "from sklearn.linear_model import LogisticRegression\n",
    "from sklearn.naive_bayes import GaussianNB\n",
    "from xgboost import XGBClassifier\n",
    "from sklearn.ensemble import RandomForestClassifier, VotingClassifier\n",
    "from catboost import CatBoostClassifier\n",
    "from sklearn.ensemble import HistGradientBoostingClassifier"
   ]
  },
  {
   "cell_type": "code",
   "execution_count": 4,
   "metadata": {},
   "outputs": [
    {
     "data": {
      "text/html": [
       "<div>\n",
       "<style scoped>\n",
       "    .dataframe tbody tr th:only-of-type {\n",
       "        vertical-align: middle;\n",
       "    }\n",
       "\n",
       "    .dataframe tbody tr th {\n",
       "        vertical-align: top;\n",
       "    }\n",
       "\n",
       "    .dataframe thead th {\n",
       "        text-align: right;\n",
       "    }\n",
       "</style>\n",
       "<table border=\"1\" class=\"dataframe\">\n",
       "  <thead>\n",
       "    <tr style=\"text-align: right;\">\n",
       "      <th></th>\n",
       "      <th>textID</th>\n",
       "      <th>text</th>\n",
       "      <th>selected_text</th>\n",
       "      <th>sentiment</th>\n",
       "    </tr>\n",
       "  </thead>\n",
       "  <tbody>\n",
       "    <tr>\n",
       "      <th>0</th>\n",
       "      <td>cb774db0d1</td>\n",
       "      <td>I`d have responded, if I were going</td>\n",
       "      <td>I`d have responded, if I were going</td>\n",
       "      <td>neutral</td>\n",
       "    </tr>\n",
       "    <tr>\n",
       "      <th>1</th>\n",
       "      <td>549e992a42</td>\n",
       "      <td>Sooo SAD I will miss you here in San Diego!!!</td>\n",
       "      <td>Sooo SAD</td>\n",
       "      <td>negative</td>\n",
       "    </tr>\n",
       "    <tr>\n",
       "      <th>2</th>\n",
       "      <td>088c60f138</td>\n",
       "      <td>my boss is bullying me...</td>\n",
       "      <td>bullying me</td>\n",
       "      <td>negative</td>\n",
       "    </tr>\n",
       "    <tr>\n",
       "      <th>3</th>\n",
       "      <td>9642c003ef</td>\n",
       "      <td>what interview! leave me alone</td>\n",
       "      <td>leave me alone</td>\n",
       "      <td>negative</td>\n",
       "    </tr>\n",
       "    <tr>\n",
       "      <th>4</th>\n",
       "      <td>358bd9e861</td>\n",
       "      <td>Sons of ****, why couldn`t they put them on t...</td>\n",
       "      <td>Sons of ****,</td>\n",
       "      <td>negative</td>\n",
       "    </tr>\n",
       "  </tbody>\n",
       "</table>\n",
       "</div>"
      ],
      "text/plain": [
       "       textID                                               text  \\\n",
       "0  cb774db0d1                I`d have responded, if I were going   \n",
       "1  549e992a42      Sooo SAD I will miss you here in San Diego!!!   \n",
       "2  088c60f138                          my boss is bullying me...   \n",
       "3  9642c003ef                     what interview! leave me alone   \n",
       "4  358bd9e861   Sons of ****, why couldn`t they put them on t...   \n",
       "\n",
       "                         selected_text sentiment  \n",
       "0  I`d have responded, if I were going   neutral  \n",
       "1                             Sooo SAD  negative  \n",
       "2                          bullying me  negative  \n",
       "3                       leave me alone  negative  \n",
       "4                        Sons of ****,  negative  "
      ]
     },
     "execution_count": 4,
     "metadata": {},
     "output_type": "execute_result"
    }
   ],
   "source": [
    "df = pd.read_csv(\"train.csv\")\n",
    "df.head()"
   ]
  },
  {
   "cell_type": "markdown",
   "metadata": {},
   "source": [
    "### 1. EDA and data cleaning"
   ]
  },
  {
   "cell_type": "code",
   "execution_count": 5,
   "metadata": {},
   "outputs": [
    {
     "name": "stdout",
     "output_type": "stream",
     "text": [
      "<class 'pandas.core.frame.DataFrame'>\n",
      "RangeIndex: 27481 entries, 0 to 27480\n",
      "Data columns (total 4 columns):\n",
      " #   Column         Non-Null Count  Dtype \n",
      "---  ------         --------------  ----- \n",
      " 0   textID         27481 non-null  object\n",
      " 1   text           27480 non-null  object\n",
      " 2   selected_text  27480 non-null  object\n",
      " 3   sentiment      27481 non-null  object\n",
      "dtypes: object(4)\n",
      "memory usage: 858.9+ KB\n"
     ]
    }
   ],
   "source": [
    "df.info()"
   ]
  },
  {
   "cell_type": "code",
   "execution_count": 6,
   "metadata": {},
   "outputs": [
    {
     "data": {
      "text/plain": [
       "textID           0\n",
       "text             1\n",
       "selected_text    1\n",
       "sentiment        0\n",
       "dtype: int64"
      ]
     },
     "execution_count": 6,
     "metadata": {},
     "output_type": "execute_result"
    }
   ],
   "source": [
    "# There seems to be a text row where it is NaN\n",
    "df.isna().sum()"
   ]
  },
  {
   "cell_type": "code",
   "execution_count": 7,
   "metadata": {},
   "outputs": [
    {
     "data": {
      "text/html": [
       "<div>\n",
       "<style scoped>\n",
       "    .dataframe tbody tr th:only-of-type {\n",
       "        vertical-align: middle;\n",
       "    }\n",
       "\n",
       "    .dataframe tbody tr th {\n",
       "        vertical-align: top;\n",
       "    }\n",
       "\n",
       "    .dataframe thead th {\n",
       "        text-align: right;\n",
       "    }\n",
       "</style>\n",
       "<table border=\"1\" class=\"dataframe\">\n",
       "  <thead>\n",
       "    <tr style=\"text-align: right;\">\n",
       "      <th></th>\n",
       "      <th>textID</th>\n",
       "      <th>text</th>\n",
       "      <th>selected_text</th>\n",
       "      <th>sentiment</th>\n",
       "    </tr>\n",
       "  </thead>\n",
       "  <tbody>\n",
       "    <tr>\n",
       "      <th>314</th>\n",
       "      <td>fdb77c3752</td>\n",
       "      <td>NaN</td>\n",
       "      <td>NaN</td>\n",
       "      <td>neutral</td>\n",
       "    </tr>\n",
       "  </tbody>\n",
       "</table>\n",
       "</div>"
      ],
      "text/plain": [
       "         textID text selected_text sentiment\n",
       "314  fdb77c3752  NaN           NaN   neutral"
      ]
     },
     "execution_count": 7,
     "metadata": {},
     "output_type": "execute_result"
    }
   ],
   "source": [
    "# Identify the row with NaN value in column \"text\"\n",
    "df[df[\"text\"].isna()]"
   ]
  },
  {
   "cell_type": "code",
   "execution_count": 8,
   "metadata": {},
   "outputs": [
    {
     "name": "stdout",
     "output_type": "stream",
     "text": [
      "<class 'pandas.core.frame.DataFrame'>\n",
      "Index: 27480 entries, 0 to 27480\n",
      "Data columns (total 4 columns):\n",
      " #   Column         Non-Null Count  Dtype \n",
      "---  ------         --------------  ----- \n",
      " 0   textID         27480 non-null  object\n",
      " 1   text           27480 non-null  object\n",
      " 2   selected_text  27480 non-null  object\n",
      " 3   sentiment      27480 non-null  object\n",
      "dtypes: object(4)\n",
      "memory usage: 1.0+ MB\n"
     ]
    }
   ],
   "source": [
    "# Drop this row\n",
    "df.drop(index=314, axis=0, inplace=True)\n",
    "\n",
    "# Inspect the df again\n",
    "df.info()"
   ]
  },
  {
   "cell_type": "code",
   "execution_count": 9,
   "metadata": {},
   "outputs": [
    {
     "data": {
      "text/html": [
       "<div>\n",
       "<style scoped>\n",
       "    .dataframe tbody tr th:only-of-type {\n",
       "        vertical-align: middle;\n",
       "    }\n",
       "\n",
       "    .dataframe tbody tr th {\n",
       "        vertical-align: top;\n",
       "    }\n",
       "\n",
       "    .dataframe thead th {\n",
       "        text-align: right;\n",
       "    }\n",
       "</style>\n",
       "<table border=\"1\" class=\"dataframe\">\n",
       "  <thead>\n",
       "    <tr style=\"text-align: right;\">\n",
       "      <th></th>\n",
       "      <th>text</th>\n",
       "      <th>sentiment</th>\n",
       "    </tr>\n",
       "  </thead>\n",
       "  <tbody>\n",
       "    <tr>\n",
       "      <th>0</th>\n",
       "      <td>I`d have responded, if I were going</td>\n",
       "      <td>neutral</td>\n",
       "    </tr>\n",
       "    <tr>\n",
       "      <th>1</th>\n",
       "      <td>Sooo SAD I will miss you here in San Diego!!!</td>\n",
       "      <td>negative</td>\n",
       "    </tr>\n",
       "    <tr>\n",
       "      <th>2</th>\n",
       "      <td>my boss is bullying me...</td>\n",
       "      <td>negative</td>\n",
       "    </tr>\n",
       "  </tbody>\n",
       "</table>\n",
       "</div>"
      ],
      "text/plain": [
       "                                             text sentiment\n",
       "0             I`d have responded, if I were going   neutral\n",
       "1   Sooo SAD I will miss you here in San Diego!!!  negative\n",
       "2                       my boss is bullying me...  negative"
      ]
     },
     "execution_count": 9,
     "metadata": {},
     "output_type": "execute_result"
    }
   ],
   "source": [
    "# Drop the \"selected_text\" and \"textID\" columns. We will do the text cleaning by ourselves\n",
    "df.drop([\"selected_text\", \"textID\"], axis=1, inplace=True)\n",
    "df.head(3)"
   ]
  },
  {
   "cell_type": "code",
   "execution_count": 10,
   "metadata": {},
   "outputs": [],
   "source": [
    "# Define a function to perform data (text) cleaning\n",
    "def text_clean(df, text):\n",
    "    \"\"\" \n",
    "    Note: Make sure to check if there is any float/int contained in the DataFrame before using this function.\n",
    "    If the df contains any float/int, preprocess it beforehand.\n",
    "    1. Input a DataFrame with text to be cleaned.\n",
    "    2. Input the header of the text column\n",
    "    \"\"\"\n",
    "    # Load English tokenizer, tagger, parser, NER and word vectors\n",
    "    nlp = spacy.load(\"en_core_web_sm\")\n",
    "\n",
    "    # Change all the text into lower case\n",
    "    df[\"Lower Case\"] = df[text].apply(lambda x: x.lower() if type(x) == str else x)\n",
    "\n",
    "    # Remove all the punctuations in the text\n",
    "    df[\"Punctuations Removed\"] = df[\"Lower Case\"].apply(lambda x: re.sub(\"\\W\", \" \", x) if type(x) == str else x)\n",
    "\n",
    "    # Remove multi-spacing and new line into just single-spacing\n",
    "    df[\"Spaces Cleaned\"] = df[\"Punctuations Removed\"].apply(lambda x: re.sub(r\"(\\s{2,}|\\n{2,})\", \" \", x))\n",
    "\n",
    "    # Return the number of characters, excluding spaces\n",
    "    df[\"Char Counts\"] = df[\"Punctuations Removed\"].apply(lambda x: len([x for item in x if item != \" \"]))\n",
    "\n",
    "    # Remove stop words\n",
    "    df[\"No Stop Words\"] = df[\"Spaces Cleaned\"].apply(lambda x: \" \".join(token.text for token in nlp(x) if token.is_stop == False))\n",
    "\n",
    "    # Lemmatize the strings\n",
    "    df[\"Lemmatized\"] = df[\"No Stop Words\"].apply(lambda x: \" \".join(token.lemma_ for token in nlp(x.strip())))\n",
    "\n",
    "    # Tokenize the lemmatized string and store in a list, for text vectorization purposes\n",
    "    df[\"Tokenized\"] = df[\"Lemmatized\"].apply(lambda x: [item for item in nlp(x.strip())])\n",
    "\n",
    "    # Return the count of words\n",
    "    df[\"Word Counts\"] = df[\"Spaces Cleaned\"].apply(lambda x: len(x.split()))\n",
    "\n",
    "    # Word density (average number of characters in a word)\n",
    "    df[\"Word Density\"] = df[\"Char Counts\"] / df[\"Word Counts\"]\n",
    "\n",
    "    # Punctuation Counts\n",
    "    df[\"Punctuation Counts\"] = df[\"Lower Case\"].apply(lambda x: len([item for item in x if item in string.punctuation]))\n",
    "\n",
    "    # Remove the leading and trailing space(s), and return the tokenized text\n",
    "    df[\"Tokenized\"] = df[\"Lemmatized\"].apply(lambda x: [item.text for item in nlp(x.strip())])\n",
    "    df.head()\n",
    "\n",
    "    return df"
   ]
  },
  {
   "cell_type": "code",
   "execution_count": 11,
   "metadata": {},
   "outputs": [
    {
     "data": {
      "text/html": [
       "<div>\n",
       "<style scoped>\n",
       "    .dataframe tbody tr th:only-of-type {\n",
       "        vertical-align: middle;\n",
       "    }\n",
       "\n",
       "    .dataframe tbody tr th {\n",
       "        vertical-align: top;\n",
       "    }\n",
       "\n",
       "    .dataframe thead th {\n",
       "        text-align: right;\n",
       "    }\n",
       "</style>\n",
       "<table border=\"1\" class=\"dataframe\">\n",
       "  <thead>\n",
       "    <tr style=\"text-align: right;\">\n",
       "      <th></th>\n",
       "      <th>text</th>\n",
       "      <th>sentiment</th>\n",
       "      <th>Lower Case</th>\n",
       "      <th>Punctuations Removed</th>\n",
       "      <th>Spaces Cleaned</th>\n",
       "      <th>Char Counts</th>\n",
       "      <th>No Stop Words</th>\n",
       "      <th>Lemmatized</th>\n",
       "      <th>Tokenized</th>\n",
       "      <th>Word Counts</th>\n",
       "      <th>Word Density</th>\n",
       "      <th>Punctuation Counts</th>\n",
       "    </tr>\n",
       "  </thead>\n",
       "  <tbody>\n",
       "    <tr>\n",
       "      <th>0</th>\n",
       "      <td>I`d have responded, if I were going</td>\n",
       "      <td>neutral</td>\n",
       "      <td>i`d have responded, if i were going</td>\n",
       "      <td>i d have responded  if i were going</td>\n",
       "      <td>i d have responded if i were going</td>\n",
       "      <td>27</td>\n",
       "      <td>d responded going</td>\n",
       "      <td>d respond go</td>\n",
       "      <td>[d, respond, go]</td>\n",
       "      <td>8</td>\n",
       "      <td>3.375000</td>\n",
       "      <td>2</td>\n",
       "    </tr>\n",
       "    <tr>\n",
       "      <th>1</th>\n",
       "      <td>Sooo SAD I will miss you here in San Diego!!!</td>\n",
       "      <td>negative</td>\n",
       "      <td>sooo sad i will miss you here in san diego!!!</td>\n",
       "      <td>sooo sad i will miss you here in san diego</td>\n",
       "      <td>sooo sad i will miss you here in san diego</td>\n",
       "      <td>33</td>\n",
       "      <td>sooo sad miss san diego</td>\n",
       "      <td>sooo sad miss san diego</td>\n",
       "      <td>[sooo, sad, miss, san, diego]</td>\n",
       "      <td>10</td>\n",
       "      <td>3.300000</td>\n",
       "      <td>3</td>\n",
       "    </tr>\n",
       "    <tr>\n",
       "      <th>2</th>\n",
       "      <td>my boss is bullying me...</td>\n",
       "      <td>negative</td>\n",
       "      <td>my boss is bullying me...</td>\n",
       "      <td>my boss is bullying me</td>\n",
       "      <td>my boss is bullying me</td>\n",
       "      <td>18</td>\n",
       "      <td>boss bullying</td>\n",
       "      <td>boss bully</td>\n",
       "      <td>[boss, bully]</td>\n",
       "      <td>5</td>\n",
       "      <td>3.600000</td>\n",
       "      <td>3</td>\n",
       "    </tr>\n",
       "    <tr>\n",
       "      <th>3</th>\n",
       "      <td>what interview! leave me alone</td>\n",
       "      <td>negative</td>\n",
       "      <td>what interview! leave me alone</td>\n",
       "      <td>what interview  leave me alone</td>\n",
       "      <td>what interview leave me alone</td>\n",
       "      <td>25</td>\n",
       "      <td>interview leave</td>\n",
       "      <td>interview leave</td>\n",
       "      <td>[interview, leave]</td>\n",
       "      <td>5</td>\n",
       "      <td>5.000000</td>\n",
       "      <td>1</td>\n",
       "    </tr>\n",
       "    <tr>\n",
       "      <th>4</th>\n",
       "      <td>Sons of ****, why couldn`t they put them on t...</td>\n",
       "      <td>negative</td>\n",
       "      <td>sons of ****, why couldn`t they put them on t...</td>\n",
       "      <td>sons of       why couldn t they put them on t...</td>\n",
       "      <td>sons of why couldn t they put them on the rel...</td>\n",
       "      <td>55</td>\n",
       "      <td>sons couldn t releases bought</td>\n",
       "      <td>son couldn t release buy</td>\n",
       "      <td>[son, couldn, t, release, buy]</td>\n",
       "      <td>14</td>\n",
       "      <td>3.928571</td>\n",
       "      <td>6</td>\n",
       "    </tr>\n",
       "  </tbody>\n",
       "</table>\n",
       "</div>"
      ],
      "text/plain": [
       "                                                text sentiment  \\\n",
       "0                I`d have responded, if I were going   neutral   \n",
       "1      Sooo SAD I will miss you here in San Diego!!!  negative   \n",
       "2                          my boss is bullying me...  negative   \n",
       "3                     what interview! leave me alone  negative   \n",
       "4   Sons of ****, why couldn`t they put them on t...  negative   \n",
       "\n",
       "                                          Lower Case  \\\n",
       "0                i`d have responded, if i were going   \n",
       "1      sooo sad i will miss you here in san diego!!!   \n",
       "2                          my boss is bullying me...   \n",
       "3                     what interview! leave me alone   \n",
       "4   sons of ****, why couldn`t they put them on t...   \n",
       "\n",
       "                                Punctuations Removed  \\\n",
       "0                i d have responded  if i were going   \n",
       "1      sooo sad i will miss you here in san diego      \n",
       "2                          my boss is bullying me      \n",
       "3                     what interview  leave me alone   \n",
       "4   sons of       why couldn t they put them on t...   \n",
       "\n",
       "                                      Spaces Cleaned  Char Counts  \\\n",
       "0                 i d have responded if i were going           27   \n",
       "1        sooo sad i will miss you here in san diego            33   \n",
       "2                            my boss is bullying me            18   \n",
       "3                      what interview leave me alone           25   \n",
       "4   sons of why couldn t they put them on the rel...           55   \n",
       "\n",
       "                     No Stop Words                Lemmatized  \\\n",
       "0                d responded going              d respond go   \n",
       "1          sooo sad miss san diego   sooo sad miss san diego   \n",
       "2                    boss bullying                boss bully   \n",
       "3                  interview leave           interview leave   \n",
       "4    sons couldn t releases bought  son couldn t release buy   \n",
       "\n",
       "                        Tokenized  Word Counts  Word Density  \\\n",
       "0                [d, respond, go]            8      3.375000   \n",
       "1   [sooo, sad, miss, san, diego]           10      3.300000   \n",
       "2                   [boss, bully]            5      3.600000   \n",
       "3              [interview, leave]            5      5.000000   \n",
       "4  [son, couldn, t, release, buy]           14      3.928571   \n",
       "\n",
       "   Punctuation Counts  \n",
       "0                   2  \n",
       "1                   3  \n",
       "2                   3  \n",
       "3                   1  \n",
       "4                   6  "
      ]
     },
     "execution_count": 11,
     "metadata": {},
     "output_type": "execute_result"
    }
   ],
   "source": [
    "%%time\n",
    "# Preview the cleaned DataFrame\n",
    "df_cleaned = text_clean(df, \"text\")\n",
    "df_cleaned.head()"
   ]
  },
  {
   "cell_type": "code",
   "execution_count": 12,
   "metadata": {},
   "outputs": [
    {
     "name": "stdout",
     "output_type": "stream",
     "text": [
      "<class 'pandas.core.frame.DataFrame'>\n",
      "Index: 27480 entries, 0 to 27480\n",
      "Data columns (total 12 columns):\n",
      " #   Column                Non-Null Count  Dtype  \n",
      "---  ------                --------------  -----  \n",
      " 0   text                  27480 non-null  object \n",
      " 1   sentiment             27480 non-null  object \n",
      " 2   Lower Case            27480 non-null  object \n",
      " 3   Punctuations Removed  27480 non-null  object \n",
      " 4   Spaces Cleaned        27480 non-null  object \n",
      " 5   Char Counts           27480 non-null  int64  \n",
      " 6   No Stop Words         27480 non-null  object \n",
      " 7   Lemmatized            27480 non-null  object \n",
      " 8   Tokenized             27480 non-null  object \n",
      " 9   Word Counts           27480 non-null  int64  \n",
      " 10  Word Density          27478 non-null  float64\n",
      " 11  Punctuation Counts    27480 non-null  int64  \n",
      "dtypes: float64(1), int64(3), object(8)\n",
      "memory usage: 2.7+ MB\n"
     ]
    }
   ],
   "source": [
    "# Check the DataFrame information\n",
    "df_cleaned.info()"
   ]
  },
  {
   "cell_type": "code",
   "execution_count": 13,
   "metadata": {},
   "outputs": [
    {
     "data": {
      "text/html": [
       "<div>\n",
       "<style scoped>\n",
       "    .dataframe tbody tr th:only-of-type {\n",
       "        vertical-align: middle;\n",
       "    }\n",
       "\n",
       "    .dataframe tbody tr th {\n",
       "        vertical-align: top;\n",
       "    }\n",
       "\n",
       "    .dataframe thead th {\n",
       "        text-align: right;\n",
       "    }\n",
       "</style>\n",
       "<table border=\"1\" class=\"dataframe\">\n",
       "  <thead>\n",
       "    <tr style=\"text-align: right;\">\n",
       "      <th></th>\n",
       "      <th>text</th>\n",
       "      <th>sentiment</th>\n",
       "      <th>Lower Case</th>\n",
       "      <th>Punctuations Removed</th>\n",
       "      <th>Spaces Cleaned</th>\n",
       "      <th>Char Counts</th>\n",
       "      <th>No Stop Words</th>\n",
       "      <th>Lemmatized</th>\n",
       "      <th>Tokenized</th>\n",
       "      <th>Word Counts</th>\n",
       "      <th>Word Density</th>\n",
       "      <th>Punctuation Counts</th>\n",
       "    </tr>\n",
       "  </thead>\n",
       "  <tbody>\n",
       "    <tr>\n",
       "      <th>8120</th>\n",
       "      <td>****</td>\n",
       "      <td>negative</td>\n",
       "      <td>****</td>\n",
       "      <td></td>\n",
       "      <td></td>\n",
       "      <td>0</td>\n",
       "      <td></td>\n",
       "      <td></td>\n",
       "      <td>[]</td>\n",
       "      <td>0</td>\n",
       "      <td>NaN</td>\n",
       "      <td>4</td>\n",
       "    </tr>\n",
       "    <tr>\n",
       "      <th>26005</th>\n",
       "      <td>?</td>\n",
       "      <td>neutral</td>\n",
       "      <td>?</td>\n",
       "      <td></td>\n",
       "      <td></td>\n",
       "      <td>0</td>\n",
       "      <td></td>\n",
       "      <td></td>\n",
       "      <td>[]</td>\n",
       "      <td>0</td>\n",
       "      <td>NaN</td>\n",
       "      <td>1</td>\n",
       "    </tr>\n",
       "  </tbody>\n",
       "</table>\n",
       "</div>"
      ],
      "text/plain": [
       "        text sentiment Lower Case Punctuations Removed Spaces Cleaned  \\\n",
       "8120    ****  negative       ****                                       \n",
       "26005      ?   neutral          ?                                       \n",
       "\n",
       "       Char Counts No Stop Words Lemmatized Tokenized  Word Counts  \\\n",
       "8120             0                                 []            0   \n",
       "26005            0                                 []            0   \n",
       "\n",
       "       Word Density  Punctuation Counts  \n",
       "8120            NaN                   4  \n",
       "26005           NaN                   1  "
      ]
     },
     "execution_count": 13,
     "metadata": {},
     "output_type": "execute_result"
    }
   ],
   "source": [
    "# There seems to be two missing values in Word Density.\n",
    "# Check what are these two rows\n",
    "df_cleaned[df_cleaned[\"Word Density\"].isna()]"
   ]
  },
  {
   "cell_type": "code",
   "execution_count": 14,
   "metadata": {},
   "outputs": [
    {
     "name": "stdout",
     "output_type": "stream",
     "text": [
      "<class 'pandas.core.frame.DataFrame'>\n",
      "Index: 27478 entries, 0 to 27480\n",
      "Data columns (total 12 columns):\n",
      " #   Column                Non-Null Count  Dtype  \n",
      "---  ------                --------------  -----  \n",
      " 0   text                  27478 non-null  object \n",
      " 1   sentiment             27478 non-null  object \n",
      " 2   Lower Case            27478 non-null  object \n",
      " 3   Punctuations Removed  27478 non-null  object \n",
      " 4   Spaces Cleaned        27478 non-null  object \n",
      " 5   Char Counts           27478 non-null  int64  \n",
      " 6   No Stop Words         27478 non-null  object \n",
      " 7   Lemmatized            27478 non-null  object \n",
      " 8   Tokenized             27478 non-null  object \n",
      " 9   Word Counts           27478 non-null  int64  \n",
      " 10  Word Density          27478 non-null  float64\n",
      " 11  Punctuation Counts    27478 non-null  int64  \n",
      "dtypes: float64(1), int64(3), object(8)\n",
      "memory usage: 2.7+ MB\n"
     ]
    }
   ],
   "source": [
    "# Apparently the text of these two rows only consist of meaningless symbols, hence there is no word counts\n",
    "# Drop these two rows\n",
    "df_cleaned.drop(index=[8120, 26005], axis=0, inplace=True)\n",
    "df_cleaned.info()"
   ]
  },
  {
   "cell_type": "markdown",
   "metadata": {},
   "source": [
    "### 2. Process and split the data\n",
    "\n",
    "In this notebook the objective is to use conventional ML models, and the workflow is as follow:\n",
    "1. Vectorize features with TF-IDF.\n",
    "2. Label encode target variable. Note: Must use models that do not assume ordinal relationship on label encoded data (e.g. tree-based estimators).\n",
    "3. Split the data into train, validation, and test data sets."
   ]
  },
  {
   "cell_type": "code",
   "execution_count": 15,
   "metadata": {},
   "outputs": [
    {
     "data": {
      "text/html": [
       "<div>\n",
       "<style scoped>\n",
       "    .dataframe tbody tr th:only-of-type {\n",
       "        vertical-align: middle;\n",
       "    }\n",
       "\n",
       "    .dataframe tbody tr th {\n",
       "        vertical-align: top;\n",
       "    }\n",
       "\n",
       "    .dataframe thead th {\n",
       "        text-align: right;\n",
       "    }\n",
       "</style>\n",
       "<table border=\"1\" class=\"dataframe\">\n",
       "  <thead>\n",
       "    <tr style=\"text-align: right;\">\n",
       "      <th></th>\n",
       "      <th>text</th>\n",
       "      <th>sentiment</th>\n",
       "      <th>Lower Case</th>\n",
       "      <th>Punctuations Removed</th>\n",
       "      <th>Spaces Cleaned</th>\n",
       "      <th>Char Counts</th>\n",
       "      <th>No Stop Words</th>\n",
       "      <th>Lemmatized</th>\n",
       "      <th>Tokenized</th>\n",
       "      <th>Word Counts</th>\n",
       "      <th>Word Density</th>\n",
       "      <th>Punctuation Counts</th>\n",
       "    </tr>\n",
       "  </thead>\n",
       "  <tbody>\n",
       "    <tr>\n",
       "      <th>0</th>\n",
       "      <td>I`d have responded, if I were going</td>\n",
       "      <td>neutral</td>\n",
       "      <td>i`d have responded, if i were going</td>\n",
       "      <td>i d have responded  if i were going</td>\n",
       "      <td>i d have responded if i were going</td>\n",
       "      <td>27</td>\n",
       "      <td>d responded going</td>\n",
       "      <td>d respond go</td>\n",
       "      <td>[d, respond, go]</td>\n",
       "      <td>8</td>\n",
       "      <td>3.375</td>\n",
       "      <td>2</td>\n",
       "    </tr>\n",
       "    <tr>\n",
       "      <th>1</th>\n",
       "      <td>Sooo SAD I will miss you here in San Diego!!!</td>\n",
       "      <td>negative</td>\n",
       "      <td>sooo sad i will miss you here in san diego!!!</td>\n",
       "      <td>sooo sad i will miss you here in san diego</td>\n",
       "      <td>sooo sad i will miss you here in san diego</td>\n",
       "      <td>33</td>\n",
       "      <td>sooo sad miss san diego</td>\n",
       "      <td>sooo sad miss san diego</td>\n",
       "      <td>[sooo, sad, miss, san, diego]</td>\n",
       "      <td>10</td>\n",
       "      <td>3.300</td>\n",
       "      <td>3</td>\n",
       "    </tr>\n",
       "    <tr>\n",
       "      <th>2</th>\n",
       "      <td>my boss is bullying me...</td>\n",
       "      <td>negative</td>\n",
       "      <td>my boss is bullying me...</td>\n",
       "      <td>my boss is bullying me</td>\n",
       "      <td>my boss is bullying me</td>\n",
       "      <td>18</td>\n",
       "      <td>boss bullying</td>\n",
       "      <td>boss bully</td>\n",
       "      <td>[boss, bully]</td>\n",
       "      <td>5</td>\n",
       "      <td>3.600</td>\n",
       "      <td>3</td>\n",
       "    </tr>\n",
       "  </tbody>\n",
       "</table>\n",
       "</div>"
      ],
      "text/plain": [
       "                                             text sentiment  \\\n",
       "0             I`d have responded, if I were going   neutral   \n",
       "1   Sooo SAD I will miss you here in San Diego!!!  negative   \n",
       "2                       my boss is bullying me...  negative   \n",
       "\n",
       "                                       Lower Case  \\\n",
       "0             i`d have responded, if i were going   \n",
       "1   sooo sad i will miss you here in san diego!!!   \n",
       "2                       my boss is bullying me...   \n",
       "\n",
       "                             Punctuations Removed  \\\n",
       "0             i d have responded  if i were going   \n",
       "1   sooo sad i will miss you here in san diego      \n",
       "2                       my boss is bullying me      \n",
       "\n",
       "                                 Spaces Cleaned  Char Counts  \\\n",
       "0            i d have responded if i were going           27   \n",
       "1   sooo sad i will miss you here in san diego            33   \n",
       "2                       my boss is bullying me            18   \n",
       "\n",
       "               No Stop Words               Lemmatized  \\\n",
       "0          d responded going             d respond go   \n",
       "1    sooo sad miss san diego  sooo sad miss san diego   \n",
       "2              boss bullying               boss bully   \n",
       "\n",
       "                       Tokenized  Word Counts  Word Density  \\\n",
       "0               [d, respond, go]            8         3.375   \n",
       "1  [sooo, sad, miss, san, diego]           10         3.300   \n",
       "2                  [boss, bully]            5         3.600   \n",
       "\n",
       "   Punctuation Counts  \n",
       "0                   2  \n",
       "1                   3  \n",
       "2                   3  "
      ]
     },
     "execution_count": 15,
     "metadata": {},
     "output_type": "execute_result"
    }
   ],
   "source": [
    "# Preview the DataFrame\n",
    "df_cleaned.head(3)"
   ]
  },
  {
   "cell_type": "code",
   "execution_count": 16,
   "metadata": {},
   "outputs": [],
   "source": [
    "# Instantiate TF-IDF vectorizer\n",
    "vectorizer = TfidfVectorizer()\n",
    "\n",
    "# Vectorize the \"Lemmatized\" text data with TF-IDF\n",
    "X_vectorized = vectorizer.fit_transform(df[\"Spaces Cleaned\"])\n",
    "\n",
    "X = X_vectorized"
   ]
  },
  {
   "cell_type": "code",
   "execution_count": 18,
   "metadata": {},
   "outputs": [
    {
     "data": {
      "text/html": [
       "<div>\n",
       "<style scoped>\n",
       "    .dataframe tbody tr th:only-of-type {\n",
       "        vertical-align: middle;\n",
       "    }\n",
       "\n",
       "    .dataframe tbody tr th {\n",
       "        vertical-align: top;\n",
       "    }\n",
       "\n",
       "    .dataframe thead th {\n",
       "        text-align: right;\n",
       "    }\n",
       "</style>\n",
       "<table border=\"1\" class=\"dataframe\">\n",
       "  <thead>\n",
       "    <tr style=\"text-align: right;\">\n",
       "      <th></th>\n",
       "      <th>sentiment</th>\n",
       "    </tr>\n",
       "  </thead>\n",
       "  <tbody>\n",
       "    <tr>\n",
       "      <th>0</th>\n",
       "      <td>neutral</td>\n",
       "    </tr>\n",
       "    <tr>\n",
       "      <th>1</th>\n",
       "      <td>negative</td>\n",
       "    </tr>\n",
       "    <tr>\n",
       "      <th>2</th>\n",
       "      <td>negative</td>\n",
       "    </tr>\n",
       "    <tr>\n",
       "      <th>3</th>\n",
       "      <td>negative</td>\n",
       "    </tr>\n",
       "    <tr>\n",
       "      <th>4</th>\n",
       "      <td>negative</td>\n",
       "    </tr>\n",
       "  </tbody>\n",
       "</table>\n",
       "</div>"
      ],
      "text/plain": [
       "  sentiment\n",
       "0   neutral\n",
       "1  negative\n",
       "2  negative\n",
       "3  negative\n",
       "4  negative"
      ]
     },
     "execution_count": 18,
     "metadata": {},
     "output_type": "execute_result"
    }
   ],
   "source": [
    "# Return the target variable\n",
    "y = df_cleaned[\"sentiment\"].to_frame()\n",
    "y.head()"
   ]
  },
  {
   "cell_type": "code",
   "execution_count": 19,
   "metadata": {},
   "outputs": [
    {
     "data": {
      "text/plain": [
       "0    0\n",
       "1    2\n",
       "2    2\n",
       "Name: sentiment, dtype: int64"
      ]
     },
     "execution_count": 19,
     "metadata": {},
     "output_type": "execute_result"
    }
   ],
   "source": [
    "# Label encode the target\n",
    "y = y[\"sentiment\"].apply(lambda x: 0 if x==\"neutral\" else 1 if x==\"positive\" else 2 if x==\"negative\" else x)\n",
    "y.head(3)"
   ]
  },
  {
   "cell_type": "code",
   "execution_count": 20,
   "metadata": {},
   "outputs": [],
   "source": [
    "# Split X and y into train, validation, and test data sets\n",
    "X_temp, X_test, y_temp, y_test = train_test_split(X, y, test_size=0.2, shuffle=True, random_state=42)\n",
    "\n",
    "X_train, X_val, y_train, y_val = train_test_split(X_temp, y_temp, test_size=0.2, shuffle=True, random_state=42)"
   ]
  },
  {
   "cell_type": "code",
   "execution_count": 21,
   "metadata": {},
   "outputs": [
    {
     "data": {
      "text/html": [
       "<div>\n",
       "<style scoped>\n",
       "    .dataframe tbody tr th:only-of-type {\n",
       "        vertical-align: middle;\n",
       "    }\n",
       "\n",
       "    .dataframe tbody tr th {\n",
       "        vertical-align: top;\n",
       "    }\n",
       "\n",
       "    .dataframe thead th {\n",
       "        text-align: right;\n",
       "    }\n",
       "</style>\n",
       "<table border=\"1\" class=\"dataframe\">\n",
       "  <thead>\n",
       "    <tr style=\"text-align: right;\">\n",
       "      <th></th>\n",
       "      <th>X_train</th>\n",
       "      <th>y_train</th>\n",
       "      <th>X_val</th>\n",
       "      <th>y_val</th>\n",
       "      <th>X_test</th>\n",
       "      <th>y_test</th>\n",
       "    </tr>\n",
       "  </thead>\n",
       "  <tbody>\n",
       "    <tr>\n",
       "      <th>0</th>\n",
       "      <td>(17585, 26439)</td>\n",
       "      <td>(17585,)</td>\n",
       "      <td>(4397, 26439)</td>\n",
       "      <td>(4397,)</td>\n",
       "      <td>(5496, 26439)</td>\n",
       "      <td>(5496,)</td>\n",
       "    </tr>\n",
       "  </tbody>\n",
       "</table>\n",
       "</div>"
      ],
      "text/plain": [
       "          X_train   y_train          X_val    y_val         X_test   y_test\n",
       "0  (17585, 26439)  (17585,)  (4397, 26439)  (4397,)  (5496, 26439)  (5496,)"
      ]
     },
     "execution_count": 21,
     "metadata": {},
     "output_type": "execute_result"
    }
   ],
   "source": [
    "# Preview the shape of the split data sets\n",
    "pd.DataFrame({\n",
    "    \"X_train\": [X_train.shape],\n",
    "    \"y_train\": [y_train.shape],\n",
    "    \"X_val\": [X_val.shape],\n",
    "    \"y_val\": [y_val.shape],\n",
    "    \"X_test\": [X_test.shape],\n",
    "    \"y_test\": [y_test.shape]\n",
    "})"
   ]
  },
  {
   "cell_type": "markdown",
   "metadata": {},
   "source": [
    "### 3. ML Modelling"
   ]
  },
  {
   "cell_type": "code",
   "execution_count": 22,
   "metadata": {},
   "outputs": [],
   "source": [
    "# Define a function to perform model fitting and output Accuracy, Precision, Recall and F1 scores with cross_val_score.\n",
    "def model_fit_score(X, y, model, random_state=1, n_splits=5):\n",
    "    \"\"\" \n",
    "    1. Pass X and y (train and test) data\n",
    "    2. Pass a model to be fitted with\n",
    "    3. Optional: Set the random_state, random_state=\n",
    "    4. Optional: Set how many splits (a.k.a. cv), n_splits=\n",
    "    \"\"\"\n",
    "    \n",
    "    cv = KFold(n_splits=n_splits, shuffle=True, random_state=random_state)\n",
    "\n",
    "    start_time = time.time()\n",
    "\n",
    "    accuracy = round(np.array(cross_val_score(model, X, y, cv=cv, scoring=\"accuracy\", n_jobs=-1)).mean(), 4)\n",
    "    precision = round(np.array(cross_val_score(model, X, y, cv=cv, scoring=\"precision\", n_jobs=-1)).mean(), 4)\n",
    "    recall = round(np.array(cross_val_score(model, X, y, cv=cv, scoring=\"recall\", n_jobs=-1)).mean(), 4)\n",
    "    f1 = round(np.array(cross_val_score(model, X, y, cv=cv, scoring=\"f1\", n_jobs=-1)).mean(), 4)\n",
    "\n",
    "    end_time = time.time()\n",
    "\n",
    "    elapsed_time = end_time - start_time\n",
    "\n",
    "    # model_name = re.findall(\"\\w+\", str(model.__class__))[1]\n",
    "\n",
    "    df = pd.DataFrame({\n",
    "        \"Accuracy\": [accuracy],\n",
    "        \"Precision\": [precision],\n",
    "        \"Recall\": [recall],\n",
    "        \"F1\": [f1],\n",
    "        \"Elapsed Time\": [elapsed_time]\n",
    "    }, index=[model])\n",
    "\n",
    "    return df"
   ]
  },
  {
   "cell_type": "code",
   "execution_count": 23,
   "metadata": {},
   "outputs": [],
   "source": [
    "# Instantiate a list of models to be fitted\n",
    "models_list = [LogisticRegression(n_jobs=-1, max_iter=1000), RandomForestClassifier(n_jobs=-1), XGBClassifier(n_jobs=-1)]"
   ]
  },
  {
   "cell_type": "code",
   "execution_count": 24,
   "metadata": {},
   "outputs": [
    {
     "name": "stdout",
     "output_type": "stream",
     "text": [
      "Fitting LogisticRegression(max_iter=1000, n_jobs=-1) now...\n",
      "Fitting RandomForestClassifier(n_jobs=-1) now...\n",
      "Fitting XGBClassifier(base_score=None, booster=None, callbacks=None,\n",
      "              colsample_bylevel=None, colsample_bynode=None,\n",
      "              colsample_bytree=None, early_stopping_rounds=None,\n",
      "              enable_categorical=False, eval_metric=None, feature_types=None,\n",
      "              gamma=None, gpu_id=None, grow_policy=None, importance_type=None,\n",
      "              interaction_constraints=None, learning_rate=None, max_bin=None,\n",
      "              max_cat_threshold=None, max_cat_to_onehot=None,\n",
      "              max_delta_step=None, max_depth=None, max_leaves=None,\n",
      "              min_child_weight=None, missing=nan, monotone_constraints=None,\n",
      "              n_estimators=100, n_jobs=-1, num_parallel_tree=None,\n",
      "              predictor=None, random_state=None, ...) now...\n"
     ]
    },
    {
     "data": {
      "text/html": [
       "<div>\n",
       "<style scoped>\n",
       "    .dataframe tbody tr th:only-of-type {\n",
       "        vertical-align: middle;\n",
       "    }\n",
       "\n",
       "    .dataframe tbody tr th {\n",
       "        vertical-align: top;\n",
       "    }\n",
       "\n",
       "    .dataframe thead th {\n",
       "        text-align: right;\n",
       "    }\n",
       "</style>\n",
       "<table border=\"1\" class=\"dataframe\">\n",
       "  <thead>\n",
       "    <tr style=\"text-align: right;\">\n",
       "      <th></th>\n",
       "      <th>Accuracy</th>\n",
       "      <th>Precision</th>\n",
       "      <th>Recall</th>\n",
       "      <th>F1</th>\n",
       "      <th>Elapsed Time</th>\n",
       "    </tr>\n",
       "  </thead>\n",
       "  <tbody>\n",
       "    <tr>\n",
       "      <th>LogisticRegression(max_iter=1000, n_jobs=-1)</th>\n",
       "      <td>0.6757</td>\n",
       "      <td>NaN</td>\n",
       "      <td>NaN</td>\n",
       "      <td>NaN</td>\n",
       "      <td>20.811764</td>\n",
       "    </tr>\n",
       "    <tr>\n",
       "      <th>RandomForestClassifier(n_jobs=-1)</th>\n",
       "      <td>0.6600</td>\n",
       "      <td>NaN</td>\n",
       "      <td>NaN</td>\n",
       "      <td>NaN</td>\n",
       "      <td>440.694196</td>\n",
       "    </tr>\n",
       "    <tr>\n",
       "      <th>XGBClassifier(base_score=None, booster=None, callbacks=None,\\n              colsample_bylevel=None, colsample_bynode=None,\\n              colsample_bytree=None, early_stopping_rounds=None,\\n              enable_categorical=False, eval_metric=None, feature_types=None,\\n              gamma=None, gpu_id=None, grow_policy=None, importance_type=None,\\n              interaction_constraints=None, learning_rate=None, max_bin=None,\\n              max_cat_threshold=None, max_cat_to_onehot=None,\\n              max_delta_step=None, max_depth=None, max_leaves=None,\\n              min_child_weight=None, missing=nan, monotone_constraints=None,\\n              n_estimators=100, n_jobs=-1, num_parallel_tree=None,\\n              predictor=None, random_state=None, ...)</th>\n",
       "      <td>0.6735</td>\n",
       "      <td>NaN</td>\n",
       "      <td>NaN</td>\n",
       "      <td>NaN</td>\n",
       "      <td>102.323427</td>\n",
       "    </tr>\n",
       "  </tbody>\n",
       "</table>\n",
       "</div>"
      ],
      "text/plain": [
       "                                                    Accuracy  Precision  \\\n",
       "LogisticRegression(max_iter=1000, n_jobs=-1)          0.6757        NaN   \n",
       "RandomForestClassifier(n_jobs=-1)                     0.6600        NaN   \n",
       "XGBClassifier(base_score=None, booster=None, ca...    0.6735        NaN   \n",
       "\n",
       "                                                    Recall  F1  Elapsed Time  \n",
       "LogisticRegression(max_iter=1000, n_jobs=-1)           NaN NaN     20.811764  \n",
       "RandomForestClassifier(n_jobs=-1)                      NaN NaN    440.694196  \n",
       "XGBClassifier(base_score=None, booster=None, ca...     NaN NaN    102.323427  "
      ]
     },
     "execution_count": 24,
     "metadata": {},
     "output_type": "execute_result"
    }
   ],
   "source": [
    "%%time\n",
    "df_list = []\n",
    "\n",
    "for item in models_list:\n",
    "    print(f\"Fitting {item} now...\")\n",
    "    df_temp = model_fit_score(X_train, y_train, item, random_state=42, n_splits=5)  # RandomForestClassifier and XGBoostClassifier can take sparse matrix directly\n",
    "    df_list.append(df_temp)\n",
    "\n",
    "results = pd.concat(df_list)\n",
    "results"
   ]
  },
  {
   "cell_type": "markdown",
   "metadata": {},
   "source": [
    "### 4. Hyperparameters tuning\n",
    "\n",
    "LogisticRegression appears to be the best performer among all, so we will choose this model for hyperparameters tuning."
   ]
  },
  {
   "cell_type": "code",
   "execution_count": 54,
   "metadata": {},
   "outputs": [
    {
     "name": "stdout",
     "output_type": "stream",
     "text": [
      "Fitting 3 folds for each of 20 candidates, totalling 60 fits\n",
      "[CV 1/3] END C=1.0, max_iter=100, penalty=none, solver=newton-cg;, score=0.575 total time=   8.4s\n",
      "[CV 2/3] END C=1.0, max_iter=100, penalty=none, solver=newton-cg;, score=0.575 total time=   7.0s\n",
      "[CV 3/3] END C=1.0, max_iter=100, penalty=none, solver=newton-cg;, score=0.572 total time=   9.8s\n",
      "[CV 1/3] END C=0.0001, max_iter=100, penalty=none, solver=newton-cg;, score=0.575 total time=   7.3s\n",
      "[CV 2/3] END C=0.0001, max_iter=100, penalty=none, solver=newton-cg;, score=0.575 total time=   8.9s\n",
      "[CV 3/3] END C=0.0001, max_iter=100, penalty=none, solver=newton-cg;, score=0.572 total time=  10.8s\n",
      "[CV 1/3] END C=0.0001, max_iter=1000, penalty=elasticnet, solver=newton-cg;, score=nan total time=   0.0s\n",
      "[CV 2/3] END C=0.0001, max_iter=1000, penalty=elasticnet, solver=newton-cg;, score=nan total time=   0.0s\n",
      "[CV 3/3] END C=0.0001, max_iter=1000, penalty=elasticnet, solver=newton-cg;, score=nan total time=   0.0s\n",
      "[CV 1/3] END C=100.0, max_iter=1000, penalty=none, solver=sag;, score=0.587 total time=   6.0s\n",
      "[CV 2/3] END C=100.0, max_iter=1000, penalty=none, solver=sag;, score=0.596 total time=   5.9s\n",
      "[CV 3/3] END C=100.0, max_iter=1000, penalty=none, solver=sag;, score=0.595 total time=   5.7s\n",
      "[CV 1/3] END C=100.0, max_iter=100, penalty=l2, solver=sag;, score=0.622 total time=   0.5s\n",
      "[CV 2/3] END C=100.0, max_iter=100, penalty=l2, solver=sag;, score=0.623 total time=   0.4s\n",
      "[CV 3/3] END C=100.0, max_iter=100, penalty=l2, solver=sag;, score=0.633 total time=   0.6s\n",
      "[CV 1/3] END C=1.0, max_iter=1000, penalty=none, solver=newton-cg;, score=0.575 total time=   6.9s\n",
      "[CV 2/3] END C=1.0, max_iter=1000, penalty=none, solver=newton-cg;, score=0.575 total time=   7.6s\n",
      "[CV 3/3] END C=1.0, max_iter=1000, penalty=none, solver=newton-cg;, score=0.572 total time=   9.5s\n",
      "[CV 1/3] END C=0.01, max_iter=1000, penalty=l2, solver=saga;, score=0.442 total time=   0.1s\n",
      "[CV 2/3] END C=0.01, max_iter=1000, penalty=l2, solver=saga;, score=0.448 total time=   0.1s\n",
      "[CV 3/3] END C=0.01, max_iter=1000, penalty=l2, solver=saga;, score=0.452 total time=   0.1s\n",
      "[CV 1/3] END C=10000.0, max_iter=100, penalty=elasticnet, solver=newton-cg;, score=nan total time=   0.0s\n",
      "[CV 2/3] END C=10000.0, max_iter=100, penalty=elasticnet, solver=newton-cg;, score=nan total time=   0.0s\n",
      "[CV 3/3] END C=10000.0, max_iter=100, penalty=elasticnet, solver=newton-cg;, score=nan total time=   0.0s\n",
      "[CV 1/3] END C=10000.0, max_iter=100, penalty=elasticnet, solver=saga;, score=nan total time=   0.0s\n",
      "[CV 2/3] END C=10000.0, max_iter=100, penalty=elasticnet, solver=saga;, score=nan total time=   0.0s\n",
      "[CV 3/3] END C=10000.0, max_iter=100, penalty=elasticnet, solver=saga;, score=nan total time=   0.0s\n",
      "[CV 1/3] END C=0.01, max_iter=100, penalty=l2, solver=newton-cg;, score=0.442 total time=   0.9s\n",
      "[CV 2/3] END C=0.01, max_iter=100, penalty=l2, solver=newton-cg;, score=0.448 total time=   0.9s\n",
      "[CV 3/3] END C=0.01, max_iter=100, penalty=l2, solver=newton-cg;, score=0.452 total time=   0.8s\n",
      "[CV 1/3] END C=0.01, max_iter=1000, penalty=l2, solver=lbfgs;, score=0.442 total time=   1.4s\n",
      "[CV 2/3] END C=0.01, max_iter=1000, penalty=l2, solver=lbfgs;, score=0.448 total time=   1.3s\n",
      "[CV 3/3] END C=0.01, max_iter=1000, penalty=l2, solver=lbfgs;, score=0.452 total time=   1.4s\n",
      "[CV 1/3] END C=10000.0, max_iter=1000, penalty=l1, solver=liblinear;, score=0.559 total time=   4.6s\n",
      "[CV 2/3] END C=10000.0, max_iter=1000, penalty=l1, solver=liblinear;, score=0.562 total time=   5.3s\n",
      "[CV 3/3] END C=10000.0, max_iter=1000, penalty=l1, solver=liblinear;, score=0.562 total time=   7.3s\n",
      "[CV 1/3] END C=10000.0, max_iter=100, penalty=l2, solver=newton-cg;, score=0.584 total time=   4.5s\n",
      "[CV 2/3] END C=10000.0, max_iter=100, penalty=l2, solver=newton-cg;, score=0.593 total time=   4.6s\n",
      "[CV 3/3] END C=10000.0, max_iter=100, penalty=l2, solver=newton-cg;, score=0.588 total time=   4.6s\n",
      "[CV 1/3] END C=0.01, max_iter=1000, penalty=none, solver=sag;, score=0.588 total time=   7.3s\n",
      "[CV 2/3] END C=0.01, max_iter=1000, penalty=none, solver=sag;, score=0.596 total time=   7.1s\n",
      "[CV 3/3] END C=0.01, max_iter=1000, penalty=none, solver=sag;, score=0.594 total time=   6.7s\n",
      "[CV 1/3] END C=10000.0, max_iter=1000, penalty=l2, solver=lbfgs;, score=0.585 total time=  11.8s\n",
      "[CV 2/3] END C=10000.0, max_iter=1000, penalty=l2, solver=lbfgs;, score=0.593 total time=  12.1s\n",
      "[CV 3/3] END C=10000.0, max_iter=1000, penalty=l2, solver=lbfgs;, score=0.590 total time=  12.4s\n",
      "[CV 1/3] END C=10000.0, max_iter=100, penalty=none, solver=liblinear;, score=nan total time=   0.0s\n",
      "[CV 2/3] END C=10000.0, max_iter=100, penalty=none, solver=liblinear;, score=nan total time=   0.0s\n",
      "[CV 3/3] END C=10000.0, max_iter=100, penalty=none, solver=liblinear;, score=nan total time=   0.0s\n",
      "[CV 1/3] END C=0.01, max_iter=100, penalty=none, solver=lbfgs;, score=0.623 total time=   2.4s\n",
      "[CV 2/3] END C=0.01, max_iter=100, penalty=none, solver=lbfgs;, score=0.623 total time=   2.2s\n",
      "[CV 3/3] END C=0.01, max_iter=100, penalty=none, solver=lbfgs;, score=0.626 total time=   2.3s\n",
      "[CV 1/3] END C=100.0, max_iter=1000, penalty=elasticnet, solver=liblinear;, score=nan total time=   0.0s\n",
      "[CV 2/3] END C=100.0, max_iter=1000, penalty=elasticnet, solver=liblinear;, score=nan total time=   0.0s\n",
      "[CV 3/3] END C=100.0, max_iter=1000, penalty=elasticnet, solver=liblinear;, score=nan total time=   0.0s\n",
      "[CV 1/3] END C=1.0, max_iter=100, penalty=l1, solver=liblinear;, score=0.675 total time=   0.0s\n",
      "[CV 2/3] END C=1.0, max_iter=100, penalty=l1, solver=liblinear;, score=0.684 total time=   0.0s\n",
      "[CV 3/3] END C=1.0, max_iter=100, penalty=l1, solver=liblinear;, score=0.692 total time=   0.0s\n",
      "[CV 1/3] END C=0.01, max_iter=1000, penalty=l2, solver=sag;, score=0.442 total time=   0.0s\n",
      "[CV 2/3] END C=0.01, max_iter=1000, penalty=l2, solver=sag;, score=0.448 total time=   0.0s\n",
      "[CV 3/3] END C=0.01, max_iter=1000, penalty=l2, solver=sag;, score=0.452 total time=   0.0s\n"
     ]
    },
    {
     "data": {
      "text/html": [
       "<style>#sk-container-id-5 {color: black;}#sk-container-id-5 pre{padding: 0;}#sk-container-id-5 div.sk-toggleable {background-color: white;}#sk-container-id-5 label.sk-toggleable__label {cursor: pointer;display: block;width: 100%;margin-bottom: 0;padding: 0.3em;box-sizing: border-box;text-align: center;}#sk-container-id-5 label.sk-toggleable__label-arrow:before {content: \"▸\";float: left;margin-right: 0.25em;color: #696969;}#sk-container-id-5 label.sk-toggleable__label-arrow:hover:before {color: black;}#sk-container-id-5 div.sk-estimator:hover label.sk-toggleable__label-arrow:before {color: black;}#sk-container-id-5 div.sk-toggleable__content {max-height: 0;max-width: 0;overflow: hidden;text-align: left;background-color: #f0f8ff;}#sk-container-id-5 div.sk-toggleable__content pre {margin: 0.2em;color: black;border-radius: 0.25em;background-color: #f0f8ff;}#sk-container-id-5 input.sk-toggleable__control:checked~div.sk-toggleable__content {max-height: 200px;max-width: 100%;overflow: auto;}#sk-container-id-5 input.sk-toggleable__control:checked~label.sk-toggleable__label-arrow:before {content: \"▾\";}#sk-container-id-5 div.sk-estimator input.sk-toggleable__control:checked~label.sk-toggleable__label {background-color: #d4ebff;}#sk-container-id-5 div.sk-label input.sk-toggleable__control:checked~label.sk-toggleable__label {background-color: #d4ebff;}#sk-container-id-5 input.sk-hidden--visually {border: 0;clip: rect(1px 1px 1px 1px);clip: rect(1px, 1px, 1px, 1px);height: 1px;margin: -1px;overflow: hidden;padding: 0;position: absolute;width: 1px;}#sk-container-id-5 div.sk-estimator {font-family: monospace;background-color: #f0f8ff;border: 1px dotted black;border-radius: 0.25em;box-sizing: border-box;margin-bottom: 0.5em;}#sk-container-id-5 div.sk-estimator:hover {background-color: #d4ebff;}#sk-container-id-5 div.sk-parallel-item::after {content: \"\";width: 100%;border-bottom: 1px solid gray;flex-grow: 1;}#sk-container-id-5 div.sk-label:hover label.sk-toggleable__label {background-color: #d4ebff;}#sk-container-id-5 div.sk-serial::before {content: \"\";position: absolute;border-left: 1px solid gray;box-sizing: border-box;top: 0;bottom: 0;left: 50%;z-index: 0;}#sk-container-id-5 div.sk-serial {display: flex;flex-direction: column;align-items: center;background-color: white;padding-right: 0.2em;padding-left: 0.2em;position: relative;}#sk-container-id-5 div.sk-item {position: relative;z-index: 1;}#sk-container-id-5 div.sk-parallel {display: flex;align-items: stretch;justify-content: center;background-color: white;position: relative;}#sk-container-id-5 div.sk-item::before, #sk-container-id-5 div.sk-parallel-item::before {content: \"\";position: absolute;border-left: 1px solid gray;box-sizing: border-box;top: 0;bottom: 0;left: 50%;z-index: -1;}#sk-container-id-5 div.sk-parallel-item {display: flex;flex-direction: column;z-index: 1;position: relative;background-color: white;}#sk-container-id-5 div.sk-parallel-item:first-child::after {align-self: flex-end;width: 50%;}#sk-container-id-5 div.sk-parallel-item:last-child::after {align-self: flex-start;width: 50%;}#sk-container-id-5 div.sk-parallel-item:only-child::after {width: 0;}#sk-container-id-5 div.sk-dashed-wrapped {border: 1px dashed gray;margin: 0 0.4em 0.5em 0.4em;box-sizing: border-box;padding-bottom: 0.4em;background-color: white;}#sk-container-id-5 div.sk-label label {font-family: monospace;font-weight: bold;display: inline-block;line-height: 1.2em;}#sk-container-id-5 div.sk-label-container {text-align: center;}#sk-container-id-5 div.sk-container {/* jupyter's `normalize.less` sets `[hidden] { display: none; }` but bootstrap.min.css set `[hidden] { display: none !important; }` so we also need the `!important` here to be able to override the default hidden behavior on the sphinx rendered scikit-learn.org. See: https://github.com/scikit-learn/scikit-learn/issues/21755 */display: inline-block !important;position: relative;}#sk-container-id-5 div.sk-text-repr-fallback {display: none;}</style><div id=\"sk-container-id-5\" class=\"sk-top-container\"><div class=\"sk-text-repr-fallback\"><pre>RandomizedSearchCV(cv=KFold(n_splits=3, random_state=42, shuffle=True),\n",
       "                   estimator=LogisticRegression(n_jobs=-1), n_iter=20,\n",
       "                   param_distributions={&#x27;C&#x27;: array([1.e-04, 1.e-02, 1.e+00, 1.e+02, 1.e+04]),\n",
       "                                        &#x27;max_iter&#x27;: [100, 1000],\n",
       "                                        &#x27;penalty&#x27;: [&#x27;l1&#x27;, &#x27;l2&#x27;, &#x27;elasticnet&#x27;,\n",
       "                                                    &#x27;none&#x27;],\n",
       "                                        &#x27;solver&#x27;: [&#x27;newton-cg&#x27;, &#x27;lbfgs&#x27;,\n",
       "                                                   &#x27;liblinear&#x27;, &#x27;sag&#x27;,\n",
       "                                                   &#x27;saga&#x27;]},\n",
       "                   random_state=42, scoring=&#x27;accuracy&#x27;, verbose=3)</pre><b>In a Jupyter environment, please rerun this cell to show the HTML representation or trust the notebook. <br />On GitHub, the HTML representation is unable to render, please try loading this page with nbviewer.org.</b></div><div class=\"sk-container\" hidden><div class=\"sk-item sk-dashed-wrapped\"><div class=\"sk-label-container\"><div class=\"sk-label sk-toggleable\"><input class=\"sk-toggleable__control sk-hidden--visually\" id=\"sk-estimator-id-9\" type=\"checkbox\" ><label for=\"sk-estimator-id-9\" class=\"sk-toggleable__label sk-toggleable__label-arrow\">RandomizedSearchCV</label><div class=\"sk-toggleable__content\"><pre>RandomizedSearchCV(cv=KFold(n_splits=3, random_state=42, shuffle=True),\n",
       "                   estimator=LogisticRegression(n_jobs=-1), n_iter=20,\n",
       "                   param_distributions={&#x27;C&#x27;: array([1.e-04, 1.e-02, 1.e+00, 1.e+02, 1.e+04]),\n",
       "                                        &#x27;max_iter&#x27;: [100, 1000],\n",
       "                                        &#x27;penalty&#x27;: [&#x27;l1&#x27;, &#x27;l2&#x27;, &#x27;elasticnet&#x27;,\n",
       "                                                    &#x27;none&#x27;],\n",
       "                                        &#x27;solver&#x27;: [&#x27;newton-cg&#x27;, &#x27;lbfgs&#x27;,\n",
       "                                                   &#x27;liblinear&#x27;, &#x27;sag&#x27;,\n",
       "                                                   &#x27;saga&#x27;]},\n",
       "                   random_state=42, scoring=&#x27;accuracy&#x27;, verbose=3)</pre></div></div></div><div class=\"sk-parallel\"><div class=\"sk-parallel-item\"><div class=\"sk-item\"><div class=\"sk-label-container\"><div class=\"sk-label sk-toggleable\"><input class=\"sk-toggleable__control sk-hidden--visually\" id=\"sk-estimator-id-10\" type=\"checkbox\" ><label for=\"sk-estimator-id-10\" class=\"sk-toggleable__label sk-toggleable__label-arrow\">estimator: LogisticRegression</label><div class=\"sk-toggleable__content\"><pre>LogisticRegression(n_jobs=-1)</pre></div></div></div><div class=\"sk-serial\"><div class=\"sk-item\"><div class=\"sk-estimator sk-toggleable\"><input class=\"sk-toggleable__control sk-hidden--visually\" id=\"sk-estimator-id-11\" type=\"checkbox\" ><label for=\"sk-estimator-id-11\" class=\"sk-toggleable__label sk-toggleable__label-arrow\">LogisticRegression</label><div class=\"sk-toggleable__content\"><pre>LogisticRegression(n_jobs=-1)</pre></div></div></div></div></div></div></div></div></div></div>"
      ],
      "text/plain": [
       "RandomizedSearchCV(cv=KFold(n_splits=3, random_state=42, shuffle=True),\n",
       "                   estimator=LogisticRegression(n_jobs=-1), n_iter=20,\n",
       "                   param_distributions={'C': array([1.e-04, 1.e-02, 1.e+00, 1.e+02, 1.e+04]),\n",
       "                                        'max_iter': [100, 1000],\n",
       "                                        'penalty': ['l1', 'l2', 'elasticnet',\n",
       "                                                    'none'],\n",
       "                                        'solver': ['newton-cg', 'lbfgs',\n",
       "                                                   'liblinear', 'sag',\n",
       "                                                   'saga']},\n",
       "                   random_state=42, scoring='accuracy', verbose=3)"
      ]
     },
     "execution_count": 54,
     "metadata": {},
     "output_type": "execute_result"
    }
   ],
   "source": [
    "%%time\n",
    "# Define the parameters to be tuned\n",
    "param_grid = {\n",
    "    'penalty' : ['l1', 'l2', 'elasticnet', 'none'],\n",
    "    'C' : np.logspace(-4, 4, 5),\n",
    "    'solver' : ['newton-cg', 'lbfgs', 'liblinear', 'sag', 'saga'],\n",
    "    'max_iter' : [100, 1000]\n",
    "}\n",
    "\n",
    "# Re-instantiate the model\n",
    "model = LogisticRegression(n_jobs=-1)\n",
    "\n",
    "# Define cross-validation\n",
    "cv = KFold(n_splits=3, shuffle=True, random_state=42)\n",
    "\n",
    "# Instantiate RandomizedSearchCV\n",
    "rscv_lr = RandomizedSearchCV(estimator=model, param_distributions=param_grid, scoring=\"accuracy\", verbose=3, random_state=42, n_iter=20, cv=cv)\n",
    "\n",
    "# Fit with train data\n",
    "rscv_lr.fit(X_train, y_train)"
   ]
  },
  {
   "cell_type": "code",
   "execution_count": 55,
   "metadata": {},
   "outputs": [
    {
     "data": {
      "text/plain": [
       "{'solver': 'liblinear', 'penalty': 'l1', 'max_iter': 100, 'C': 1.0}"
      ]
     },
     "execution_count": 55,
     "metadata": {},
     "output_type": "execute_result"
    }
   ],
   "source": [
    "rscv_lr.best_params_"
   ]
  },
  {
   "cell_type": "code",
   "execution_count": 56,
   "metadata": {},
   "outputs": [
    {
     "data": {
      "text/plain": [
       "0.6834238326065275"
      ]
     },
     "execution_count": 56,
     "metadata": {},
     "output_type": "execute_result"
    }
   ],
   "source": [
    "rscv_lr.best_score_"
   ]
  },
  {
   "cell_type": "code",
   "execution_count": 57,
   "metadata": {},
   "outputs": [
    {
     "data": {
      "text/html": [
       "<style>#sk-container-id-6 {color: black;}#sk-container-id-6 pre{padding: 0;}#sk-container-id-6 div.sk-toggleable {background-color: white;}#sk-container-id-6 label.sk-toggleable__label {cursor: pointer;display: block;width: 100%;margin-bottom: 0;padding: 0.3em;box-sizing: border-box;text-align: center;}#sk-container-id-6 label.sk-toggleable__label-arrow:before {content: \"▸\";float: left;margin-right: 0.25em;color: #696969;}#sk-container-id-6 label.sk-toggleable__label-arrow:hover:before {color: black;}#sk-container-id-6 div.sk-estimator:hover label.sk-toggleable__label-arrow:before {color: black;}#sk-container-id-6 div.sk-toggleable__content {max-height: 0;max-width: 0;overflow: hidden;text-align: left;background-color: #f0f8ff;}#sk-container-id-6 div.sk-toggleable__content pre {margin: 0.2em;color: black;border-radius: 0.25em;background-color: #f0f8ff;}#sk-container-id-6 input.sk-toggleable__control:checked~div.sk-toggleable__content {max-height: 200px;max-width: 100%;overflow: auto;}#sk-container-id-6 input.sk-toggleable__control:checked~label.sk-toggleable__label-arrow:before {content: \"▾\";}#sk-container-id-6 div.sk-estimator input.sk-toggleable__control:checked~label.sk-toggleable__label {background-color: #d4ebff;}#sk-container-id-6 div.sk-label input.sk-toggleable__control:checked~label.sk-toggleable__label {background-color: #d4ebff;}#sk-container-id-6 input.sk-hidden--visually {border: 0;clip: rect(1px 1px 1px 1px);clip: rect(1px, 1px, 1px, 1px);height: 1px;margin: -1px;overflow: hidden;padding: 0;position: absolute;width: 1px;}#sk-container-id-6 div.sk-estimator {font-family: monospace;background-color: #f0f8ff;border: 1px dotted black;border-radius: 0.25em;box-sizing: border-box;margin-bottom: 0.5em;}#sk-container-id-6 div.sk-estimator:hover {background-color: #d4ebff;}#sk-container-id-6 div.sk-parallel-item::after {content: \"\";width: 100%;border-bottom: 1px solid gray;flex-grow: 1;}#sk-container-id-6 div.sk-label:hover label.sk-toggleable__label {background-color: #d4ebff;}#sk-container-id-6 div.sk-serial::before {content: \"\";position: absolute;border-left: 1px solid gray;box-sizing: border-box;top: 0;bottom: 0;left: 50%;z-index: 0;}#sk-container-id-6 div.sk-serial {display: flex;flex-direction: column;align-items: center;background-color: white;padding-right: 0.2em;padding-left: 0.2em;position: relative;}#sk-container-id-6 div.sk-item {position: relative;z-index: 1;}#sk-container-id-6 div.sk-parallel {display: flex;align-items: stretch;justify-content: center;background-color: white;position: relative;}#sk-container-id-6 div.sk-item::before, #sk-container-id-6 div.sk-parallel-item::before {content: \"\";position: absolute;border-left: 1px solid gray;box-sizing: border-box;top: 0;bottom: 0;left: 50%;z-index: -1;}#sk-container-id-6 div.sk-parallel-item {display: flex;flex-direction: column;z-index: 1;position: relative;background-color: white;}#sk-container-id-6 div.sk-parallel-item:first-child::after {align-self: flex-end;width: 50%;}#sk-container-id-6 div.sk-parallel-item:last-child::after {align-self: flex-start;width: 50%;}#sk-container-id-6 div.sk-parallel-item:only-child::after {width: 0;}#sk-container-id-6 div.sk-dashed-wrapped {border: 1px dashed gray;margin: 0 0.4em 0.5em 0.4em;box-sizing: border-box;padding-bottom: 0.4em;background-color: white;}#sk-container-id-6 div.sk-label label {font-family: monospace;font-weight: bold;display: inline-block;line-height: 1.2em;}#sk-container-id-6 div.sk-label-container {text-align: center;}#sk-container-id-6 div.sk-container {/* jupyter's `normalize.less` sets `[hidden] { display: none; }` but bootstrap.min.css set `[hidden] { display: none !important; }` so we also need the `!important` here to be able to override the default hidden behavior on the sphinx rendered scikit-learn.org. See: https://github.com/scikit-learn/scikit-learn/issues/21755 */display: inline-block !important;position: relative;}#sk-container-id-6 div.sk-text-repr-fallback {display: none;}</style><div id=\"sk-container-id-6\" class=\"sk-top-container\"><div class=\"sk-text-repr-fallback\"><pre>LogisticRegression(n_jobs=-1, penalty=&#x27;l1&#x27;, solver=&#x27;liblinear&#x27;)</pre><b>In a Jupyter environment, please rerun this cell to show the HTML representation or trust the notebook. <br />On GitHub, the HTML representation is unable to render, please try loading this page with nbviewer.org.</b></div><div class=\"sk-container\" hidden><div class=\"sk-item\"><div class=\"sk-estimator sk-toggleable\"><input class=\"sk-toggleable__control sk-hidden--visually\" id=\"sk-estimator-id-12\" type=\"checkbox\" checked><label for=\"sk-estimator-id-12\" class=\"sk-toggleable__label sk-toggleable__label-arrow\">LogisticRegression</label><div class=\"sk-toggleable__content\"><pre>LogisticRegression(n_jobs=-1, penalty=&#x27;l1&#x27;, solver=&#x27;liblinear&#x27;)</pre></div></div></div></div></div>"
      ],
      "text/plain": [
       "LogisticRegression(n_jobs=-1, penalty='l1', solver='liblinear')"
      ]
     },
     "execution_count": 57,
     "metadata": {},
     "output_type": "execute_result"
    }
   ],
   "source": [
    "rscv_lr.best_estimator_"
   ]
  },
  {
   "cell_type": "markdown",
   "metadata": {},
   "source": [
    "Discussions:\n",
    "1. The tuned model performs better than the base model, so we will go with the tuned model."
   ]
  },
  {
   "cell_type": "markdown",
   "metadata": {},
   "source": [
    "### 5. Final results, ROC curve, confusion matrix"
   ]
  },
  {
   "cell_type": "code",
   "execution_count": 62,
   "metadata": {},
   "outputs": [],
   "source": [
    "# Instantiate the model with the best hyperparameters\n",
    "model = LogisticRegression(solver='liblinear', penalty='l1', max_iter=100, C=1.0, random_state=42, n_jobs=-1)"
   ]
  },
  {
   "cell_type": "code",
   "execution_count": 63,
   "metadata": {},
   "outputs": [
    {
     "data": {
      "text/plain": [
       "0.7009324539458722"
      ]
     },
     "execution_count": 63,
     "metadata": {},
     "output_type": "execute_result"
    }
   ],
   "source": [
    "# Fit the model with training data\n",
    "model.fit(X_train, y_train)\n",
    "\n",
    "# Make predictions with validation data\n",
    "y_pred_val = model.predict(X_val)\n",
    "\n",
    "# Return accuracy score with validation data\n",
    "accuracy_val = accuracy_score(y_val, y_pred_val)\n",
    "accuracy_val"
   ]
  },
  {
   "cell_type": "code",
   "execution_count": 72,
   "metadata": {},
   "outputs": [
    {
     "data": {
      "text/plain": [
       "0.6894104803493449"
      ]
     },
     "execution_count": 72,
     "metadata": {},
     "output_type": "execute_result"
    }
   ],
   "source": [
    "# Perform prediction with test data\n",
    "y_pred_test = model.predict(X_test)\n",
    "\n",
    "# Get the accuracy score with test data\n",
    "accuracy_test = accuracy_score(y_test, y_pred_test)\n",
    "accuracy_test"
   ]
  },
  {
   "cell_type": "code",
   "execution_count": 65,
   "metadata": {},
   "outputs": [
    {
     "data": {
      "text/plain": [
       "array([[0.10790668, 0.82579814, 0.06629518],\n",
       "       [0.27323917, 0.64461261, 0.08214822],\n",
       "       [0.59828959, 0.17972146, 0.22198896]])"
      ]
     },
     "execution_count": 65,
     "metadata": {},
     "output_type": "execute_result"
    }
   ],
   "source": [
    "# Compute y_score for ROC curve plotting\n",
    "y_score = model.predict_proba(X_test)\n",
    "y_score[:3]"
   ]
  },
  {
   "cell_type": "code",
   "execution_count": 67,
   "metadata": {},
   "outputs": [
    {
     "data": {
      "image/png": "[encoded data removed]",
      "text/plain": [
       "<Figure size 640x480 with 1 Axes>"
      ]
     },
     "metadata": {},
     "output_type": "display_data"
    },
    {
     "data": {
      "image/png": "[encoded data removed]",
      "text/plain": [
       "<Figure size 640x480 with 1 Axes>"
      ]
     },
     "metadata": {},
     "output_type": "display_data"
    },
    {
     "data": {
      "image/png": "[encoded data removed]",
      "text/plain": [
       "<Figure size 640x480 with 1 Axes>"
      ]
     },
     "metadata": {},
     "output_type": "display_data"
    }
   ],
   "source": [
    "import matplotlib.pyplot as plt\n",
    "from sklearn.metrics import roc_curve, auc\n",
    "from sklearn.preprocessing import label_binarize\n",
    "\n",
    "# Assuming y_test is your test set class labels\n",
    "# and y_score is the output of predict_proba()\n",
    "\n",
    "# Binarize the output\n",
    "y_test_bin = label_binarize(y_test, classes=[0, 1, 2])\n",
    "\n",
    "n_classes = y_test_bin.shape[1]\n",
    "\n",
    "# Compute ROC curve and ROC area for each class\n",
    "fpr = dict()\n",
    "tpr = dict()\n",
    "roc_auc = dict()\n",
    "for i in range(n_classes):\n",
    "    fpr[i], tpr[i], _ = roc_curve(y_test_bin[:, i], y_score[:, i])\n",
    "    roc_auc[i] = auc(fpr[i], tpr[i])\n",
    "\n",
    "# Plot the ROC curve for each class\n",
    "for i in range(n_classes):\n",
    "    plt.figure()\n",
    "    plt.plot(fpr[i], tpr[i], color=\"darkorange\", label='ROC curve (area = %0.2f)' % roc_auc[i])\n",
    "    plt.plot([0, 1], [0, 1], linestyle='--')\n",
    "    plt.xlim([0.0, 1.0])\n",
    "    plt.ylim([0.0, 1.05])\n",
    "    plt.xlabel('False Positive Rate')\n",
    "    plt.ylabel('True Positive Rate')\n",
    "    plt.title('Receiver Operating Characteristic for class %i' % i)\n",
    "    plt.legend(loc=\"lower right\")\n",
    "    plt.show()\n"
   ]
  },
  {
   "cell_type": "code",
   "execution_count": 68,
   "metadata": {},
   "outputs": [
    {
     "data": {
      "image/png": "[encoded data removed]",
      "text/plain": [
       "<Figure size 640x480 with 2 Axes>"
      ]
     },
     "metadata": {},
     "output_type": "display_data"
    }
   ],
   "source": [
    "# Confusion matrix\n",
    "cf = confusion_matrix(y_test, y_pred_test)\n",
    "sns.heatmap(data=cf, annot=True, fmt=\"d\")\n",
    "plt.xlabel(\"Predicted Value\")\n",
    "plt.ylabel(\"Actual Value\")\n",
    "plt.title(\"Confusion Matrix\")\n",
    "plt.show();"
   ]
  },
  {
   "cell_type": "code",
   "execution_count": 73,
   "metadata": {},
   "outputs": [
    {
     "data": {
      "text/plain": [
       "0.6894104803493449"
      ]
     },
     "execution_count": 73,
     "metadata": {},
     "output_type": "execute_result"
    }
   ],
   "source": [
    "accuracy_test = accuracy_score(y_test, y_pred_test)\n",
    "accuracy_test"
   ]
  },
  {
   "cell_type": "code",
   "execution_count": 69,
   "metadata": {},
   "outputs": [
    {
     "data": {
      "text/plain": [
       "0.7138120098480106"
      ]
     },
     "execution_count": 69,
     "metadata": {},
     "output_type": "execute_result"
    }
   ],
   "source": [
    "precision_test = precision_score(y_test, y_pred_test, average=\"macro\")\n",
    "precision_test"
   ]
  },
  {
   "cell_type": "code",
   "execution_count": 70,
   "metadata": {},
   "outputs": [
    {
     "data": {
      "text/plain": [
       "0.6761078210574696"
      ]
     },
     "execution_count": 70,
     "metadata": {},
     "output_type": "execute_result"
    }
   ],
   "source": [
    "recall_test = recall_score(y_test, y_pred_test, average=\"macro\")\n",
    "recall_test"
   ]
  },
  {
   "cell_type": "code",
   "execution_count": 71,
   "metadata": {},
   "outputs": [
    {
     "data": {
      "text/plain": [
       "0.6866214648689355"
      ]
     },
     "execution_count": 71,
     "metadata": {},
     "output_type": "execute_result"
    }
   ],
   "source": [
    "f1_test = f1_score(y_test, y_pred_test, average=\"macro\")\n",
    "f1_test"
   ]
  },
  {
   "cell_type": "code",
   "execution_count": 74,
   "metadata": {},
   "outputs": [
    {
     "data": {
      "text/html": [
       "<div>\n",
       "<style scoped>\n",
       "    .dataframe tbody tr th:only-of-type {\n",
       "        vertical-align: middle;\n",
       "    }\n",
       "\n",
       "    .dataframe tbody tr th {\n",
       "        vertical-align: top;\n",
       "    }\n",
       "\n",
       "    .dataframe thead th {\n",
       "        text-align: right;\n",
       "    }\n",
       "</style>\n",
       "<table border=\"1\" class=\"dataframe\">\n",
       "  <thead>\n",
       "    <tr style=\"text-align: right;\">\n",
       "      <th></th>\n",
       "      <th>Accuracy</th>\n",
       "      <th>Precision</th>\n",
       "      <th>Recall</th>\n",
       "      <th>F1</th>\n",
       "    </tr>\n",
       "  </thead>\n",
       "  <tbody>\n",
       "    <tr>\n",
       "      <th>Score</th>\n",
       "      <td>0.68941</td>\n",
       "      <td>0.713812</td>\n",
       "      <td>0.676108</td>\n",
       "      <td>0.686621</td>\n",
       "    </tr>\n",
       "  </tbody>\n",
       "</table>\n",
       "</div>"
      ],
      "text/plain": [
       "       Accuracy  Precision    Recall        F1\n",
       "Score   0.68941   0.713812  0.676108  0.686621"
      ]
     },
     "execution_count": 74,
     "metadata": {},
     "output_type": "execute_result"
    }
   ],
   "source": [
    "final_results = pd.DataFrame({\n",
    "    \"Accuracy\": [accuracy_test],\n",
    "    \"Precision\": [precision_test],\n",
    "    \"Recall\": [recall_test],\n",
    "    \"F1\": [f1_test]\n",
    "}, index=[\"Score\"])\n",
    "\n",
    "final_results"
   ]
  },
  {
   "cell_type": "markdown",
   "metadata": {},
   "source": [
    "#### Discussions:\n",
    "#### 1. Check out the PowerPoint presentation slide deck for more discussions and comparisons on the models and analysis."
   ]
  }
 ],
 "metadata": {
  "kernelspec": {
   "display_name": "base",
   "language": "python",
   "name": "python3"
  },
  "language_info": {
   "codemirror_mode": {
    "name": "ipython",
    "version": 3
   },
   "file_extension": ".py",
   "mimetype": "text/x-python",
   "name": "python",
   "nbconvert_exporter": "python",
   "pygments_lexer": "ipython3",
   "version": "3.9.5"
  }
 },
 "nbformat": 4,
 "nbformat_minor": 2
}
